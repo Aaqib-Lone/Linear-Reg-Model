{
 "cells": [
  {
   "cell_type": "code",
   "execution_count": 5,
   "id": "4de1de78",
   "metadata": {},
   "outputs": [],
   "source": [
    "# First we need to import the modules/Librarires\n",
    "import pandas as pd\n",
    "from sklearn import linear_model\n",
    "from sklearn.metrics import accuracy_score\n",
    "from sklearn.model_selection import train_test_split\n",
    "import numpy as np"
   ]
  },
  {
   "cell_type": "code",
   "execution_count": 6,
   "id": "92903fcb",
   "metadata": {},
   "outputs": [],
   "source": [
    "# now read the csv file with pandas \n",
    "df=pd.read_csv(\"student-mat.csv\", sep=\";\")\n",
    "df=df[[\"G1\",\"G2\", \"G3\", \"studytime\", \"failures\", \"absences\"]]\n",
    "\n",
    "predict=\"G3\""
   ]
  },
  {
   "cell_type": "code",
   "execution_count": 7,
   "id": "0932d2d2",
   "metadata": {},
   "outputs": [
    {
     "name": "stderr",
     "output_type": "stream",
     "text": [
      "C:\\Users\\User\\AppData\\Local\\Temp\\ipykernel_14532\\1215889334.py:1: FutureWarning: In a future version of pandas all arguments of DataFrame.drop except for the argument 'labels' will be keyword-only\n",
      "  X=np.array(df.drop([predict],1))\n"
     ]
    }
   ],
   "source": [
    "X=np.array(df.drop([predict],1))\n",
    "y=np.array(df[predict])"
   ]
  },
  {
   "cell_type": "code",
   "execution_count": 12,
   "id": "1526f475",
   "metadata": {},
   "outputs": [
    {
     "data": {
      "text/plain": [
       "LinearRegression()"
      ]
     },
     "execution_count": 12,
     "metadata": {},
     "output_type": "execute_result"
    }
   ],
   "source": [
    "X_train,  x_test,y_train, y_test= train_test_split(X,y, test_size=0.1)\n",
    "\n",
    "# Apply the linear regression algorithm\n",
    "reg=linear_model.LinearRegression()\n",
    "reg.fit(X_train, y_train)"
   ]
  },
  {
   "cell_type": "code",
   "execution_count": 13,
   "id": "c8c89925",
   "metadata": {},
   "outputs": [
    {
     "name": "stdout",
     "output_type": "stream",
     "text": [
      "Accuracy :  0.9472137504363645\n"
     ]
    }
   ],
   "source": [
    "accuracy=reg.score(x_test, y_test)\n",
    "\n",
    "print(\"Accuracy : \",accuracy)\n"
   ]
  }
 ],
 "metadata": {
  "kernelspec": {
   "display_name": "Python 3 (ipykernel)",
   "language": "python",
   "name": "python3"
  },
  "language_info": {
   "codemirror_mode": {
    "name": "ipython",
    "version": 3
   },
   "file_extension": ".py",
   "mimetype": "text/x-python",
   "name": "python",
   "nbconvert_exporter": "python",
   "pygments_lexer": "ipython3",
   "version": "3.9.6"
  }
 },
 "nbformat": 4,
 "nbformat_minor": 5
}
